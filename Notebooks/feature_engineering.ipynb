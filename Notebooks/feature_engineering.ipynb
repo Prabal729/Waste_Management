{
 "cells": [
  {
   "cell_type": "markdown",
   "id": "523195ad",
   "metadata": {},
   "source": [
    "Import Libraries and Load Cleaned Data"
   ]
  },
  {
   "cell_type": "code",
   "execution_count": 1,
   "id": "13e9ecd2",
   "metadata": {},
   "outputs": [
    {
     "name": "stdout",
     "output_type": "stream",
     "text": [
      "Loaded cleaned data: (850, 17)\n"
     ]
    },
    {
     "data": {
      "text/html": [
       "<div>\n",
       "<style scoped>\n",
       "    .dataframe tbody tr th:only-of-type {\n",
       "        vertical-align: middle;\n",
       "    }\n",
       "\n",
       "    .dataframe tbody tr th {\n",
       "        vertical-align: top;\n",
       "    }\n",
       "\n",
       "    .dataframe thead th {\n",
       "        text-align: right;\n",
       "    }\n",
       "</style>\n",
       "<table border=\"1\" class=\"dataframe\">\n",
       "  <thead>\n",
       "    <tr style=\"text-align: right;\">\n",
       "      <th></th>\n",
       "      <th>City/District</th>\n",
       "      <th>Waste Type</th>\n",
       "      <th>Waste Generated (Tons/Day)</th>\n",
       "      <th>Recycling Rate (%)</th>\n",
       "      <th>Population Density (People/km²)</th>\n",
       "      <th>Municipal Efficiency Score (1-10)</th>\n",
       "      <th>Disposal Method</th>\n",
       "      <th>Cost of Waste Management (₹/Ton)</th>\n",
       "      <th>Awareness Campaigns Count</th>\n",
       "      <th>Landfill Name</th>\n",
       "      <th>Landfill Capacity (Tons)</th>\n",
       "      <th>Year</th>\n",
       "      <th>Landfill_Lat</th>\n",
       "      <th>Landfill_Long</th>\n",
       "      <th>Waste_Per_Capita_kg</th>\n",
       "      <th>Landfill_Utilization_Ratio</th>\n",
       "      <th>Cost_Per_Campaign</th>\n",
       "    </tr>\n",
       "  </thead>\n",
       "  <tbody>\n",
       "    <tr>\n",
       "      <th>0</th>\n",
       "      <td>Mumbai</td>\n",
       "      <td>Plastic</td>\n",
       "      <td>6610</td>\n",
       "      <td>68</td>\n",
       "      <td>11191</td>\n",
       "      <td>9</td>\n",
       "      <td>Composting</td>\n",
       "      <td>3056</td>\n",
       "      <td>14</td>\n",
       "      <td>Mumbai Landfill</td>\n",
       "      <td>45575</td>\n",
       "      <td>2019</td>\n",
       "      <td>22.4265</td>\n",
       "      <td>77.4931</td>\n",
       "      <td>590.653203</td>\n",
       "      <td>0.145036</td>\n",
       "      <td>218.285714</td>\n",
       "    </tr>\n",
       "    <tr>\n",
       "      <th>1</th>\n",
       "      <td>Mumbai</td>\n",
       "      <td>Organic</td>\n",
       "      <td>1181</td>\n",
       "      <td>56</td>\n",
       "      <td>11191</td>\n",
       "      <td>5</td>\n",
       "      <td>Composting</td>\n",
       "      <td>2778</td>\n",
       "      <td>12</td>\n",
       "      <td>Mumbai Landfill</td>\n",
       "      <td>45575</td>\n",
       "      <td>2019</td>\n",
       "      <td>22.4265</td>\n",
       "      <td>77.4931</td>\n",
       "      <td>105.531230</td>\n",
       "      <td>0.025913</td>\n",
       "      <td>231.500000</td>\n",
       "    </tr>\n",
       "    <tr>\n",
       "      <th>2</th>\n",
       "      <td>Mumbai</td>\n",
       "      <td>E-Waste</td>\n",
       "      <td>8162</td>\n",
       "      <td>53</td>\n",
       "      <td>11191</td>\n",
       "      <td>8</td>\n",
       "      <td>Incineration</td>\n",
       "      <td>3390</td>\n",
       "      <td>13</td>\n",
       "      <td>Mumbai Landfill</td>\n",
       "      <td>45575</td>\n",
       "      <td>2019</td>\n",
       "      <td>22.4265</td>\n",
       "      <td>77.4931</td>\n",
       "      <td>729.336074</td>\n",
       "      <td>0.179089</td>\n",
       "      <td>260.769231</td>\n",
       "    </tr>\n",
       "    <tr>\n",
       "      <th>3</th>\n",
       "      <td>Mumbai</td>\n",
       "      <td>Construction</td>\n",
       "      <td>8929</td>\n",
       "      <td>56</td>\n",
       "      <td>11191</td>\n",
       "      <td>5</td>\n",
       "      <td>Landfill</td>\n",
       "      <td>1498</td>\n",
       "      <td>14</td>\n",
       "      <td>Mumbai Landfill</td>\n",
       "      <td>45575</td>\n",
       "      <td>2019</td>\n",
       "      <td>22.4265</td>\n",
       "      <td>77.4931</td>\n",
       "      <td>797.873291</td>\n",
       "      <td>0.195919</td>\n",
       "      <td>107.000000</td>\n",
       "    </tr>\n",
       "    <tr>\n",
       "      <th>4</th>\n",
       "      <td>Mumbai</td>\n",
       "      <td>Hazardous</td>\n",
       "      <td>5032</td>\n",
       "      <td>44</td>\n",
       "      <td>11191</td>\n",
       "      <td>7</td>\n",
       "      <td>Recycling</td>\n",
       "      <td>2221</td>\n",
       "      <td>16</td>\n",
       "      <td>Mumbai Landfill</td>\n",
       "      <td>45575</td>\n",
       "      <td>2019</td>\n",
       "      <td>22.4265</td>\n",
       "      <td>77.4931</td>\n",
       "      <td>449.647038</td>\n",
       "      <td>0.110411</td>\n",
       "      <td>138.812500</td>\n",
       "    </tr>\n",
       "  </tbody>\n",
       "</table>\n",
       "</div>"
      ],
      "text/plain": [
       "  City/District    Waste Type  Waste Generated (Tons/Day)  Recycling Rate (%)  \\\n",
       "0        Mumbai       Plastic                        6610                  68   \n",
       "1        Mumbai       Organic                        1181                  56   \n",
       "2        Mumbai       E-Waste                        8162                  53   \n",
       "3        Mumbai  Construction                        8929                  56   \n",
       "4        Mumbai     Hazardous                        5032                  44   \n",
       "\n",
       "   Population Density (People/km²)  Municipal Efficiency Score (1-10)  \\\n",
       "0                            11191                                  9   \n",
       "1                            11191                                  5   \n",
       "2                            11191                                  8   \n",
       "3                            11191                                  5   \n",
       "4                            11191                                  7   \n",
       "\n",
       "  Disposal Method  Cost of Waste Management (₹/Ton)  \\\n",
       "0      Composting                              3056   \n",
       "1      Composting                              2778   \n",
       "2    Incineration                              3390   \n",
       "3        Landfill                              1498   \n",
       "4       Recycling                              2221   \n",
       "\n",
       "   Awareness Campaigns Count    Landfill Name  Landfill Capacity (Tons)  Year  \\\n",
       "0                         14  Mumbai Landfill                     45575  2019   \n",
       "1                         12  Mumbai Landfill                     45575  2019   \n",
       "2                         13  Mumbai Landfill                     45575  2019   \n",
       "3                         14  Mumbai Landfill                     45575  2019   \n",
       "4                         16  Mumbai Landfill                     45575  2019   \n",
       "\n",
       "   Landfill_Lat  Landfill_Long  Waste_Per_Capita_kg  \\\n",
       "0       22.4265        77.4931           590.653203   \n",
       "1       22.4265        77.4931           105.531230   \n",
       "2       22.4265        77.4931           729.336074   \n",
       "3       22.4265        77.4931           797.873291   \n",
       "4       22.4265        77.4931           449.647038   \n",
       "\n",
       "   Landfill_Utilization_Ratio  Cost_Per_Campaign  \n",
       "0                    0.145036         218.285714  \n",
       "1                    0.025913         231.500000  \n",
       "2                    0.179089         260.769231  \n",
       "3                    0.195919         107.000000  \n",
       "4                    0.110411         138.812500  "
      ]
     },
     "execution_count": 1,
     "metadata": {},
     "output_type": "execute_result"
    }
   ],
   "source": [
    "import pandas as pd\n",
    "import numpy as np\n",
    "\n",
    "df = pd.read_csv(r\"D:\\Portfolio\\waste_management\\data\\processed\\waste_data_cleaned.csv\")\n",
    "print(\"Loaded cleaned data:\", df.shape)\n",
    "df.head()\n"
   ]
  },
  {
   "cell_type": "markdown",
   "id": "264a9fcc",
   "metadata": {},
   "source": [
    "Handle Missing Values"
   ]
  },
  {
   "cell_type": "code",
   "execution_count": 2,
   "id": "cd8618ad",
   "metadata": {},
   "outputs": [
    {
     "name": "stdout",
     "output_type": "stream",
     "text": [
      "City/District                         0\n",
      "Waste Type                            0\n",
      "Waste Generated (Tons/Day)            0\n",
      "Recycling Rate (%)                    0\n",
      "Population Density (People/km²)       0\n",
      "Municipal Efficiency Score (1-10)     0\n",
      "Disposal Method                       0\n",
      "Cost of Waste Management (₹/Ton)      0\n",
      "Awareness Campaigns Count             0\n",
      "Landfill Name                         0\n",
      "Landfill Capacity (Tons)              0\n",
      "Year                                  0\n",
      "Landfill_Lat                          0\n",
      "Landfill_Long                         0\n",
      "Waste_Per_Capita_kg                   0\n",
      "Landfill_Utilization_Ratio            0\n",
      "Cost_Per_Campaign                    48\n",
      "dtype: int64\n"
     ]
    }
   ],
   "source": [
    "print(df.isnull().sum())\n",
    "# Impute Cost_Per_Campaign missing with median (from zero campaign division)\n",
    "if 'Cost_Per_Campaign' in df.columns:\n",
    "    df['Cost_Per_Campaign'] = df['Cost_Per_Campaign'].fillna(df['Cost_Per_Campaign'].median())\n"
   ]
  },
  {
   "cell_type": "markdown",
   "id": "d5548a9f",
   "metadata": {},
   "source": [
    "Temporal Feature: Year Category"
   ]
  },
  {
   "cell_type": "code",
   "execution_count": 3,
   "id": "fbc7e47a",
   "metadata": {},
   "outputs": [],
   "source": [
    "df['Year_Category'] = pd.cut(df['Year'], bins=[2018, 2020, 2023], labels=['Before_2021', '2021_and_after'])\n"
   ]
  },
  {
   "cell_type": "markdown",
   "id": "1db66a6f",
   "metadata": {},
   "source": [
    "Interaction Features"
   ]
  },
  {
   "cell_type": "code",
   "execution_count": 4,
   "id": "c2b187a3",
   "metadata": {},
   "outputs": [],
   "source": [
    "# Interaction between municipal efficiency and population density\n",
    "df['Efficiency_PopDensity_Interaction'] = df['Municipal Efficiency Score (1-10)'] * df['Population Density (People/km²)']\n",
    "# Interaction between awareness and efficiency\n",
    "df['Campaign_Efficiency_Interaction'] = df['Awareness Campaigns Count'] * df['Municipal Efficiency Score (1-10)']\n"
   ]
  },
  {
   "cell_type": "code",
   "execution_count": 5,
   "id": "6abc6b41",
   "metadata": {},
   "outputs": [
    {
     "name": "stdout",
     "output_type": "stream",
     "text": [
      "Waste Generated (Tons/Day): skewness = -0.02\n",
      "Cost of Waste Management (₹/Ton): skewness = -0.06\n",
      "Awareness Campaigns Count: skewness = -0.04\n",
      "Landfill Capacity (Tons): skewness = 0.05\n",
      "Waste_Per_Capita_kg: skewness = 2.60\n",
      "Landfill_Utilization_Ratio: skewness = 1.33\n",
      "Cost_Per_Campaign: skewness = 3.84\n"
     ]
    }
   ],
   "source": [
    "for col in ['Waste Generated (Tons/Day)', 'Cost of Waste Management (₹/Ton)', \n",
    "            'Awareness Campaigns Count', 'Landfill Capacity (Tons)', \n",
    "            'Waste_Per_Capita_kg', 'Landfill_Utilization_Ratio', 'Cost_Per_Campaign']:\n",
    "    print(f\"{col}: skewness = {df[col].skew():.2f}\")\n"
   ]
  },
  {
   "cell_type": "code",
   "execution_count": 6,
   "id": "f8bdbd80",
   "metadata": {},
   "outputs": [],
   "source": [
    "skewed_cols = [col for col in [\n",
    "    'Waste Generated (Tons/Day)', 'Cost of Waste Management (₹/Ton)', \n",
    "    'Awareness Campaigns Count', 'Landfill Capacity (Tons)',\n",
    "    'Waste_Per_Capita_kg', 'Landfill_Utilization_Ratio', 'Cost_Per_Campaign'\n",
    "] if abs(df[col].skew()) > 1]\n",
    "\n",
    "for col in skewed_cols:\n",
    "    df[f'Log_{col}'] = np.log1p(df[col])\n"
   ]
  },
  {
   "cell_type": "code",
   "execution_count": 7,
   "id": "7d0821f5",
   "metadata": {},
   "outputs": [],
   "source": [
    "# Frequency encode city\n",
    "city_freq = df['City/District'].value_counts(normalize=True)\n",
    "df['City_FreqEnc'] = df['City/District'].map(city_freq)\n",
    "\n",
    "# You can do similar for landfill or other high-cardinality features\n"
   ]
  },
  {
   "cell_type": "code",
   "execution_count": 8,
   "id": "cc76215c",
   "metadata": {},
   "outputs": [
    {
     "name": "stdout",
     "output_type": "stream",
     "text": [
      "Feature engineered data saved to D:\\Portfolio\\waste_management\\data\\processed\\waste_data_feature_engineered.csv\n"
     ]
    }
   ],
   "source": [
    "save_path = r\"D:\\Portfolio\\waste_management\\data\\processed\\waste_data_feature_engineered.csv\"\n",
    "df.to_csv(save_path, index=False)\n",
    "print(f\"Feature engineered data saved to {save_path}\")\n"
   ]
  }
 ],
 "metadata": {
  "kernelspec": {
   "display_name": "venv",
   "language": "python",
   "name": "python3"
  },
  "language_info": {
   "codemirror_mode": {
    "name": "ipython",
    "version": 3
   },
   "file_extension": ".py",
   "mimetype": "text/x-python",
   "name": "python",
   "nbconvert_exporter": "python",
   "pygments_lexer": "ipython3",
   "version": "3.13.5"
  }
 },
 "nbformat": 4,
 "nbformat_minor": 5
}
